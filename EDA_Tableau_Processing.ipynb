{
 "cells": [
  {
   "cell_type": "markdown",
   "metadata": {},
   "source": [
    "# Tableau Processing\n",
    "This notebook is to preprocess data into a format to feed into Tableau."
   ]
  },
  {
   "cell_type": "code",
   "execution_count": 1,
   "metadata": {},
   "outputs": [],
   "source": [
    "import numpy as np\n",
    "import pandas as pd\n",
    "import os\n",
    "import datetime\n",
    "import EDA_utils"
   ]
  },
  {
   "cell_type": "code",
   "execution_count": 2,
   "metadata": {},
   "outputs": [],
   "source": [
    "data = EDA_utils.remove_aggregates(pd.read_csv(\"wb_data.csv\"))"
   ]
  },
  {
   "cell_type": "markdown",
   "metadata": {},
   "source": [
    "To generate features explored in the EDA_2 notebook."
   ]
  },
  {
   "cell_type": "code",
   "execution_count": 3,
   "metadata": {},
   "outputs": [],
   "source": [
    "data[\"GHGT_Capita\"] = data[\"EN.ATM.GHGT.KT.CE\"] / data[\"SP.POP.TOTL\"]\n",
    "data[\"GHGT_GDP\"] = data[\"EN.ATM.GHGT.KT.CE\"] / data[\"NY.GDP.MKTP.CD\"]"
   ]
  },
  {
   "cell_type": "markdown",
   "metadata": {},
   "source": [
    "To get latest data and its associated year for each column.\n",
    "\n",
    "Initially a single DataFramea and CSV file is generated with all the missing values in separate columns. However the following problems arose:\n",
    "- The presence of null values means the columns cannot be saved as integers\n",
    "- Multiple measurement years needing unique column names\n",
    "\n",
    "Hence modifications are made to save as separate CSV files."
   ]
  },
  {
   "cell_type": "code",
   "execution_count": 4,
   "metadata": {},
   "outputs": [],
   "source": [
    "# data_copy = pd.DataFrame(index=data.country.unique())"
   ]
  },
  {
   "cell_type": "code",
   "execution_count": 5,
   "metadata": {},
   "outputs": [],
   "source": [
    "indicators_dict = EDA_utils.indicators_dict\n",
    "indicators_dict[\"GHGT_Capita\"] = \"Greenhouse gases in CO2 per capita\"\n",
    "indicators_dict[\"GHGT_GDP\"] = \"Greenhouse gases in CO2 per GDP\""
   ]
  },
  {
   "cell_type": "code",
   "execution_count": 8,
   "metadata": {},
   "outputs": [
    {
     "name": "stdout",
     "output_type": "stream",
     "text": [
      "             Measurement Year  Total greenhouse gases in CO2\n",
      "Country                                                     \n",
      "Afghanistan              2018                        98920.0\n",
      "Albania                  2018                        10080.0\n",
      "Algeria                  2018                       218910.0\n",
      "Andorra                  2018                          590.0\n",
      "Angola                   2018                        79730.0\n",
      "Measurement Year                   int64\n",
      "Total greenhouse gases in CO2    float64\n",
      "dtype: object\n",
      "Measurement Year                 0\n",
      "Total greenhouse gases in CO2    0\n",
      "dtype: int64\n",
      "                Measurement Year  Renewable energy in %\n",
      "Country                                                \n",
      "Afghanistan                 2015              86.050111\n",
      "Albania                     2015             100.000000\n",
      "Algeria                     2015               0.322684\n",
      "American Samoa              2015               0.885478\n",
      "Andorra                     2015              86.116700\n",
      "Measurement Year           int64\n",
      "Renewable energy in %    float64\n",
      "dtype: object\n",
      "Measurement Year         0\n",
      "Renewable energy in %    0\n",
      "dtype: int64\n",
      "                Measurement Year    GDP in USD\n",
      "Country                                       \n",
      "Afghanistan                 2020  2.011614e+10\n",
      "Albania                     2020  1.488763e+10\n",
      "Algeria                     2020  1.450092e+11\n",
      "American Samoa              2020  7.090000e+08\n",
      "Andorra                     2019  3.155065e+09\n",
      "Measurement Year      int64\n",
      "GDP in USD          float64\n",
      "dtype: object\n",
      "Measurement Year    0\n",
      "GDP in USD          0\n",
      "dtype: int64\n",
      "                Measurement Year  GDP per capita in USD\n",
      "Country                                                \n",
      "Afghanistan                 2020             516.747871\n",
      "Albania                     2020            5246.292306\n",
      "Algeria                     2020            3306.858208\n",
      "American Samoa              2020           12844.900991\n",
      "Andorra                     2019           40897.330873\n",
      "Measurement Year           int64\n",
      "GDP per capita in USD    float64\n",
      "dtype: object\n",
      "Measurement Year         0\n",
      "GDP per capita in USD    0\n",
      "dtype: int64\n",
      "                     Measurement Year  GDP per capita in PPP\n",
      "Country                                                     \n",
      "Afghanistan                      2020            2078.648615\n",
      "Albania                          2020           13439.665278\n",
      "Algeria                          2020           11324.235813\n",
      "Angola                           2020            6445.432873\n",
      "Antigua and Barbuda              2020           18241.868196\n",
      "Measurement Year           int64\n",
      "GDP per capita in PPP    float64\n",
      "dtype: object\n",
      "Measurement Year         0\n",
      "GDP per capita in PPP    0\n",
      "dtype: int64\n",
      "                Measurement Year  GDP per capita growth in %\n",
      "Country                                                     \n",
      "Afghanistan                 2020                   -4.575032\n",
      "Albania                     2020                   -3.398708\n",
      "Algeria                     2020                   -6.826964\n",
      "American Samoa              2020                    4.138084\n",
      "Andorra                     2020                  -12.088300\n",
      "Measurement Year                int64\n",
      "GDP per capita growth in %    float64\n",
      "dtype: object\n",
      "Measurement Year              0\n",
      "GDP per capita growth in %    0\n",
      "dtype: int64\n",
      "                Measurement Year  Total population\n",
      "Country                                           \n",
      "Afghanistan                 2020        38928341.0\n",
      "Albania                     2020         2837743.0\n",
      "Algeria                     2020        43851043.0\n",
      "American Samoa              2020           55197.0\n",
      "Andorra                     2020           77265.0\n",
      "Measurement Year      int64\n",
      "Total population    float64\n",
      "dtype: object\n",
      "Measurement Year    0\n",
      "Total population    0\n",
      "dtype: int64\n",
      "             Measurement Year  Greenhouse gases in CO2 per capita\n",
      "Country                                                          \n",
      "Afghanistan              2018                            0.002661\n",
      "Albania                  2018                            0.003517\n",
      "Algeria                  2018                            0.005184\n",
      "Andorra                  2018                            0.007662\n",
      "Angola                   2018                            0.002588\n",
      "Measurement Year                        int64\n",
      "Greenhouse gases in CO2 per capita    float64\n",
      "dtype: object\n",
      "Measurement Year                      0\n",
      "Greenhouse gases in CO2 per capita    0\n",
      "dtype: int64\n",
      "             Measurement Year  Greenhouse gases in CO2 per GDP\n",
      "Country                                                       \n",
      "Afghanistan              2018                     5.479352e-06\n",
      "Albania                  2018                     6.650642e-07\n",
      "Algeria                  2018                     1.251552e-06\n",
      "Andorra                  2018                     1.833257e-07\n",
      "Angola                   2018                     7.866547e-07\n",
      "Measurement Year                     int64\n",
      "Greenhouse gases in CO2 per GDP    float64\n",
      "dtype: object\n",
      "Measurement Year                   0\n",
      "Greenhouse gases in CO2 per GDP    0\n",
      "dtype: int64\n"
     ]
    }
   ],
   "source": [
    "for col, desc in indicators_dict.items():\n",
    "    data_segment = EDA_utils.get_latest_data(data, col, drop_year=False)\n",
    "    data_segment.index.names = [\"Country\"]\n",
    "    data_segment = data_segment.rename(columns={\n",
    "        col: desc,\n",
    "        \"year\": \"Measurement Year\"\n",
    "    })\n",
    "    print(data_segment.head())\n",
    "    print(data_segment.dtypes)\n",
    "    print(data_segment.isna().sum())\n",
    "    data_segment.to_csv(f\"wb_tableau/{col}.csv\")"
   ]
  },
  {
   "cell_type": "code",
   "execution_count": null,
   "metadata": {},
   "outputs": [],
   "source": []
  }
 ],
 "metadata": {
  "kernelspec": {
   "display_name": "Python 3",
   "language": "python",
   "name": "python3"
  },
  "language_info": {
   "codemirror_mode": {
    "name": "ipython",
    "version": 3
   },
   "file_extension": ".py",
   "mimetype": "text/x-python",
   "name": "python",
   "nbconvert_exporter": "python",
   "pygments_lexer": "ipython3",
   "version": "3.7.6"
  }
 },
 "nbformat": 4,
 "nbformat_minor": 4
}
