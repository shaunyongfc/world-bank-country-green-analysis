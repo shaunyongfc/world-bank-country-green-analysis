{
 "cells": [
  {
   "cell_type": "markdown",
   "metadata": {},
   "source": [
    "# Tableau Processing\n",
    "This notebook is to preprocess data into a format to feed into Tableau."
   ]
  },
  {
   "cell_type": "code",
   "execution_count": 1,
   "metadata": {},
   "outputs": [],
   "source": [
    "import numpy as np\n",
    "import pandas as pd\n",
    "import os\n",
    "import datetime\n",
    "import EDA_utils"
   ]
  },
  {
   "cell_type": "code",
   "execution_count": 2,
   "metadata": {},
   "outputs": [],
   "source": [
    "data = EDA_utils.remove_aggregates(pd.read_csv(\"wb_data.csv\"))"
   ]
  },
  {
   "cell_type": "markdown",
   "metadata": {},
   "source": [
    "To generate features explored in the EDA_2 notebook."
   ]
  },
  {
   "cell_type": "code",
   "execution_count": 3,
   "metadata": {},
   "outputs": [],
   "source": [
    "data[\"GHGT_Capita\"] = data[\"EN.ATM.GHGT.KT.CE\"] / data[\"SP.POP.TOTL\"]\n",
    "data[\"GHGT_GDP\"] = data[\"EN.ATM.GHGT.KT.CE\"] / data[\"NY.GDP.MKTP.CD\"]"
   ]
  },
  {
   "cell_type": "markdown",
   "metadata": {},
   "source": [
    "To get latest data and its associated year for each column."
   ]
  },
  {
   "cell_type": "code",
   "execution_count": 4,
   "metadata": {},
   "outputs": [],
   "source": [
    "data_copy = pd.DataFrame(index=data.country.unique())"
   ]
  },
  {
   "cell_type": "code",
   "execution_count": 5,
   "metadata": {},
   "outputs": [
    {
     "data": {
      "text/html": [
       "<div>\n",
       "<style scoped>\n",
       "    .dataframe tbody tr th:only-of-type {\n",
       "        vertical-align: middle;\n",
       "    }\n",
       "\n",
       "    .dataframe tbody tr th {\n",
       "        vertical-align: top;\n",
       "    }\n",
       "\n",
       "    .dataframe thead th {\n",
       "        text-align: right;\n",
       "    }\n",
       "</style>\n",
       "<table border=\"1\" class=\"dataframe\">\n",
       "  <thead>\n",
       "    <tr style=\"text-align: right;\">\n",
       "      <th></th>\n",
       "    </tr>\n",
       "  </thead>\n",
       "  <tbody>\n",
       "    <tr>\n",
       "      <th>Afghanistan</th>\n",
       "    </tr>\n",
       "    <tr>\n",
       "      <th>Albania</th>\n",
       "    </tr>\n",
       "    <tr>\n",
       "      <th>Algeria</th>\n",
       "    </tr>\n",
       "    <tr>\n",
       "      <th>American Samoa</th>\n",
       "    </tr>\n",
       "    <tr>\n",
       "      <th>Andorra</th>\n",
       "    </tr>\n",
       "  </tbody>\n",
       "</table>\n",
       "</div>"
      ],
      "text/plain": [
       "Empty DataFrame\n",
       "Columns: []\n",
       "Index: [Afghanistan, Albania, Algeria, American Samoa, Andorra]"
      ]
     },
     "execution_count": 5,
     "metadata": {},
     "output_type": "execute_result"
    }
   ],
   "source": [
    "data_copy.head()"
   ]
  },
  {
   "cell_type": "code",
   "execution_count": 6,
   "metadata": {},
   "outputs": [],
   "source": [
    "all_columns = list(EDA_utils.indicators_dict.keys()) + [\"GHGT_Capita\", \"GHGT_GDP\"]\n",
    "\n",
    "for col in all_columns:\n",
    "    data_segment = EDA_utils.get_latest_data(data, col, drop_year=False)\n",
    "    data_copy[col] = data_segment[col]\n",
    "    data_copy[f\"{col}_Year\"] = data_segment[\"year\"].astype(\"int32\")"
   ]
  },
  {
   "cell_type": "code",
   "execution_count": 7,
   "metadata": {},
   "outputs": [
    {
     "data": {
      "text/html": [
       "<div>\n",
       "<style scoped>\n",
       "    .dataframe tbody tr th:only-of-type {\n",
       "        vertical-align: middle;\n",
       "    }\n",
       "\n",
       "    .dataframe tbody tr th {\n",
       "        vertical-align: top;\n",
       "    }\n",
       "\n",
       "    .dataframe thead th {\n",
       "        text-align: right;\n",
       "    }\n",
       "</style>\n",
       "<table border=\"1\" class=\"dataframe\">\n",
       "  <thead>\n",
       "    <tr style=\"text-align: right;\">\n",
       "      <th></th>\n",
       "      <th>EN.ATM.GHGT.KT.CE</th>\n",
       "      <th>EN.ATM.GHGT.KT.CE_Year</th>\n",
       "      <th>EG.ELC.RNEW.ZS</th>\n",
       "      <th>EG.ELC.RNEW.ZS_Year</th>\n",
       "      <th>NY.GDP.MKTP.CD</th>\n",
       "      <th>NY.GDP.MKTP.CD_Year</th>\n",
       "      <th>NY.GDP.PCAP.CD</th>\n",
       "      <th>NY.GDP.PCAP.CD_Year</th>\n",
       "      <th>NY.GDP.PCAP.PP.CD</th>\n",
       "      <th>NY.GDP.PCAP.PP.CD_Year</th>\n",
       "      <th>NY.GDP.PCAP.KD.ZG</th>\n",
       "      <th>NY.GDP.PCAP.KD.ZG_Year</th>\n",
       "      <th>SP.POP.TOTL</th>\n",
       "      <th>SP.POP.TOTL_Year</th>\n",
       "      <th>GHGT_Capita</th>\n",
       "      <th>GHGT_Capita_Year</th>\n",
       "      <th>GHGT_GDP</th>\n",
       "      <th>GHGT_GDP_Year</th>\n",
       "    </tr>\n",
       "  </thead>\n",
       "  <tbody>\n",
       "    <tr>\n",
       "      <th>Afghanistan</th>\n",
       "      <td>98920.0</td>\n",
       "      <td>2018.0</td>\n",
       "      <td>86.050111</td>\n",
       "      <td>2015</td>\n",
       "      <td>2.011614e+10</td>\n",
       "      <td>2020.0</td>\n",
       "      <td>516.747871</td>\n",
       "      <td>2020.0</td>\n",
       "      <td>2078.648615</td>\n",
       "      <td>2020.0</td>\n",
       "      <td>-4.575032</td>\n",
       "      <td>2020.0</td>\n",
       "      <td>38928341.0</td>\n",
       "      <td>2020</td>\n",
       "      <td>0.002661</td>\n",
       "      <td>2018.0</td>\n",
       "      <td>5.479352e-06</td>\n",
       "      <td>2018.0</td>\n",
       "    </tr>\n",
       "    <tr>\n",
       "      <th>Albania</th>\n",
       "      <td>10080.0</td>\n",
       "      <td>2018.0</td>\n",
       "      <td>100.000000</td>\n",
       "      <td>2015</td>\n",
       "      <td>1.488763e+10</td>\n",
       "      <td>2020.0</td>\n",
       "      <td>5246.292306</td>\n",
       "      <td>2020.0</td>\n",
       "      <td>13439.665278</td>\n",
       "      <td>2020.0</td>\n",
       "      <td>-3.398708</td>\n",
       "      <td>2020.0</td>\n",
       "      <td>2837743.0</td>\n",
       "      <td>2020</td>\n",
       "      <td>0.003517</td>\n",
       "      <td>2018.0</td>\n",
       "      <td>6.650642e-07</td>\n",
       "      <td>2018.0</td>\n",
       "    </tr>\n",
       "    <tr>\n",
       "      <th>Algeria</th>\n",
       "      <td>218910.0</td>\n",
       "      <td>2018.0</td>\n",
       "      <td>0.322684</td>\n",
       "      <td>2015</td>\n",
       "      <td>1.450092e+11</td>\n",
       "      <td>2020.0</td>\n",
       "      <td>3306.858208</td>\n",
       "      <td>2020.0</td>\n",
       "      <td>11324.235813</td>\n",
       "      <td>2020.0</td>\n",
       "      <td>-6.826964</td>\n",
       "      <td>2020.0</td>\n",
       "      <td>43851043.0</td>\n",
       "      <td>2020</td>\n",
       "      <td>0.005184</td>\n",
       "      <td>2018.0</td>\n",
       "      <td>1.251552e-06</td>\n",
       "      <td>2018.0</td>\n",
       "    </tr>\n",
       "    <tr>\n",
       "      <th>American Samoa</th>\n",
       "      <td>NaN</td>\n",
       "      <td>NaN</td>\n",
       "      <td>0.885478</td>\n",
       "      <td>2015</td>\n",
       "      <td>7.090000e+08</td>\n",
       "      <td>2020.0</td>\n",
       "      <td>12844.900991</td>\n",
       "      <td>2020.0</td>\n",
       "      <td>NaN</td>\n",
       "      <td>NaN</td>\n",
       "      <td>4.138084</td>\n",
       "      <td>2020.0</td>\n",
       "      <td>55197.0</td>\n",
       "      <td>2020</td>\n",
       "      <td>NaN</td>\n",
       "      <td>NaN</td>\n",
       "      <td>NaN</td>\n",
       "      <td>NaN</td>\n",
       "    </tr>\n",
       "    <tr>\n",
       "      <th>Andorra</th>\n",
       "      <td>590.0</td>\n",
       "      <td>2018.0</td>\n",
       "      <td>86.116700</td>\n",
       "      <td>2015</td>\n",
       "      <td>3.155065e+09</td>\n",
       "      <td>2019.0</td>\n",
       "      <td>40897.330873</td>\n",
       "      <td>2019.0</td>\n",
       "      <td>NaN</td>\n",
       "      <td>NaN</td>\n",
       "      <td>-12.088300</td>\n",
       "      <td>2020.0</td>\n",
       "      <td>77265.0</td>\n",
       "      <td>2020</td>\n",
       "      <td>0.007662</td>\n",
       "      <td>2018.0</td>\n",
       "      <td>1.833257e-07</td>\n",
       "      <td>2018.0</td>\n",
       "    </tr>\n",
       "  </tbody>\n",
       "</table>\n",
       "</div>"
      ],
      "text/plain": [
       "                EN.ATM.GHGT.KT.CE  EN.ATM.GHGT.KT.CE_Year  EG.ELC.RNEW.ZS  \\\n",
       "Afghanistan               98920.0                  2018.0       86.050111   \n",
       "Albania                   10080.0                  2018.0      100.000000   \n",
       "Algeria                  218910.0                  2018.0        0.322684   \n",
       "American Samoa                NaN                     NaN        0.885478   \n",
       "Andorra                     590.0                  2018.0       86.116700   \n",
       "\n",
       "                EG.ELC.RNEW.ZS_Year  NY.GDP.MKTP.CD  NY.GDP.MKTP.CD_Year  \\\n",
       "Afghanistan                    2015    2.011614e+10               2020.0   \n",
       "Albania                        2015    1.488763e+10               2020.0   \n",
       "Algeria                        2015    1.450092e+11               2020.0   \n",
       "American Samoa                 2015    7.090000e+08               2020.0   \n",
       "Andorra                        2015    3.155065e+09               2019.0   \n",
       "\n",
       "                NY.GDP.PCAP.CD  NY.GDP.PCAP.CD_Year  NY.GDP.PCAP.PP.CD  \\\n",
       "Afghanistan         516.747871               2020.0        2078.648615   \n",
       "Albania            5246.292306               2020.0       13439.665278   \n",
       "Algeria            3306.858208               2020.0       11324.235813   \n",
       "American Samoa    12844.900991               2020.0                NaN   \n",
       "Andorra           40897.330873               2019.0                NaN   \n",
       "\n",
       "                NY.GDP.PCAP.PP.CD_Year  NY.GDP.PCAP.KD.ZG  \\\n",
       "Afghanistan                     2020.0          -4.575032   \n",
       "Albania                         2020.0          -3.398708   \n",
       "Algeria                         2020.0          -6.826964   \n",
       "American Samoa                     NaN           4.138084   \n",
       "Andorra                            NaN         -12.088300   \n",
       "\n",
       "                NY.GDP.PCAP.KD.ZG_Year  SP.POP.TOTL  SP.POP.TOTL_Year  \\\n",
       "Afghanistan                     2020.0   38928341.0              2020   \n",
       "Albania                         2020.0    2837743.0              2020   \n",
       "Algeria                         2020.0   43851043.0              2020   \n",
       "American Samoa                  2020.0      55197.0              2020   \n",
       "Andorra                         2020.0      77265.0              2020   \n",
       "\n",
       "                GHGT_Capita  GHGT_Capita_Year      GHGT_GDP  GHGT_GDP_Year  \n",
       "Afghanistan        0.002661            2018.0  5.479352e-06         2018.0  \n",
       "Albania            0.003517            2018.0  6.650642e-07         2018.0  \n",
       "Algeria            0.005184            2018.0  1.251552e-06         2018.0  \n",
       "American Samoa          NaN               NaN           NaN            NaN  \n",
       "Andorra            0.007662            2018.0  1.833257e-07         2018.0  "
      ]
     },
     "execution_count": 7,
     "metadata": {},
     "output_type": "execute_result"
    }
   ],
   "source": [
    "data_copy.head()"
   ]
  },
  {
   "cell_type": "markdown",
   "metadata": {},
   "source": [
    "It seems some year columns remain as float data type."
   ]
  },
  {
   "cell_type": "code",
   "execution_count": 9,
   "metadata": {},
   "outputs": [
    {
     "data": {
      "text/plain": [
       "EN.ATM.GHGT.KT.CE         float64\n",
       "EN.ATM.GHGT.KT.CE_Year    float64\n",
       "EG.ELC.RNEW.ZS            float64\n",
       "EG.ELC.RNEW.ZS_Year         int32\n",
       "NY.GDP.MKTP.CD            float64\n",
       "NY.GDP.MKTP.CD_Year       float64\n",
       "NY.GDP.PCAP.CD            float64\n",
       "NY.GDP.PCAP.CD_Year       float64\n",
       "NY.GDP.PCAP.PP.CD         float64\n",
       "NY.GDP.PCAP.PP.CD_Year    float64\n",
       "NY.GDP.PCAP.KD.ZG         float64\n",
       "NY.GDP.PCAP.KD.ZG_Year    float64\n",
       "SP.POP.TOTL               float64\n",
       "SP.POP.TOTL_Year            int32\n",
       "GHGT_Capita               float64\n",
       "GHGT_Capita_Year          float64\n",
       "GHGT_GDP                  float64\n",
       "GHGT_GDP_Year             float64\n",
       "dtype: object"
      ]
     },
     "execution_count": 9,
     "metadata": {},
     "output_type": "execute_result"
    }
   ],
   "source": [
    "data_copy.dtypes"
   ]
  },
  {
   "cell_type": "code",
   "execution_count": 10,
   "metadata": {},
   "outputs": [
    {
     "data": {
      "text/plain": [
       "EN.ATM.GHGT.KT.CE         26\n",
       "EN.ATM.GHGT.KT.CE_Year    26\n",
       "EG.ELC.RNEW.ZS             0\n",
       "EG.ELC.RNEW.ZS_Year        0\n",
       "NY.GDP.MKTP.CD             4\n",
       "NY.GDP.MKTP.CD_Year        4\n",
       "NY.GDP.PCAP.CD             4\n",
       "NY.GDP.PCAP.CD_Year        4\n",
       "NY.GDP.PCAP.PP.CD         19\n",
       "NY.GDP.PCAP.PP.CD_Year    19\n",
       "NY.GDP.PCAP.KD.ZG          5\n",
       "NY.GDP.PCAP.KD.ZG_Year     5\n",
       "SP.POP.TOTL                0\n",
       "SP.POP.TOTL_Year           0\n",
       "GHGT_Capita               26\n",
       "GHGT_Capita_Year          26\n",
       "GHGT_GDP                  27\n",
       "GHGT_GDP_Year             27\n",
       "dtype: int64"
      ]
     },
     "execution_count": 10,
     "metadata": {},
     "output_type": "execute_result"
    }
   ],
   "source": [
    "data_copy.isna().sum()"
   ]
  },
  {
   "cell_type": "markdown",
   "metadata": {},
   "source": [
    "Apparently int32 data type cannot store NaN values so they are left as they are. And the data copy is saved for Tableau analysis."
   ]
  },
  {
   "cell_type": "code",
   "execution_count": 15,
   "metadata": {},
   "outputs": [],
   "source": [
    "data_copy.to_csv(\"wb_data_tableau.csv\")"
   ]
  },
  {
   "cell_type": "code",
   "execution_count": null,
   "metadata": {},
   "outputs": [],
   "source": []
  }
 ],
 "metadata": {
  "kernelspec": {
   "display_name": "Python 3",
   "language": "python",
   "name": "python3"
  },
  "language_info": {
   "codemirror_mode": {
    "name": "ipython",
    "version": 3
   },
   "file_extension": ".py",
   "mimetype": "text/x-python",
   "name": "python",
   "nbconvert_exporter": "python",
   "pygments_lexer": "ipython3",
   "version": "3.7.6"
  }
 },
 "nbformat": 4,
 "nbformat_minor": 4
}
