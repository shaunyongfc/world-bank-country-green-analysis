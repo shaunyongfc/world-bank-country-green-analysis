{
 "cells": [
  {
   "cell_type": "code",
   "execution_count": 1,
   "metadata": {},
   "outputs": [],
   "source": [
    "import pandas as pd"
   ]
  },
  {
   "cell_type": "code",
   "execution_count": 2,
   "metadata": {},
   "outputs": [],
   "source": [
    "data = pd.read_csv(\"wb_data.csv\")"
   ]
  },
  {
   "cell_type": "code",
   "execution_count": 3,
   "metadata": {},
   "outputs": [
    {
     "data": {
      "text/html": [
       "<div>\n",
       "<style scoped>\n",
       "    .dataframe tbody tr th:only-of-type {\n",
       "        vertical-align: middle;\n",
       "    }\n",
       "\n",
       "    .dataframe tbody tr th {\n",
       "        vertical-align: top;\n",
       "    }\n",
       "\n",
       "    .dataframe thead th {\n",
       "        text-align: right;\n",
       "    }\n",
       "</style>\n",
       "<table border=\"1\" class=\"dataframe\">\n",
       "  <thead>\n",
       "    <tr style=\"text-align: right;\">\n",
       "      <th></th>\n",
       "      <th>country</th>\n",
       "      <th>year</th>\n",
       "      <th>EN.ATM.GHGT.KT.CE</th>\n",
       "      <th>EG.ELC.RNEW.ZS</th>\n",
       "      <th>NY.GDP.MKTP.CD</th>\n",
       "      <th>NY.GDP.PCAP.CD</th>\n",
       "      <th>NY.GDP.PCAP.PP.CD</th>\n",
       "      <th>NY.GDP.PCAP.KD.ZG</th>\n",
       "      <th>SP.POP.TOTL</th>\n",
       "    </tr>\n",
       "  </thead>\n",
       "  <tbody>\n",
       "    <tr>\n",
       "      <th>0</th>\n",
       "      <td>Africa Eastern and Southern</td>\n",
       "      <td>2020</td>\n",
       "      <td>NaN</td>\n",
       "      <td>NaN</td>\n",
       "      <td>9.207923e+11</td>\n",
       "      <td>1359.618224</td>\n",
       "      <td>3684.562623</td>\n",
       "      <td>-5.403820</td>\n",
       "      <td>677243299.0</td>\n",
       "    </tr>\n",
       "    <tr>\n",
       "      <th>1</th>\n",
       "      <td>Africa Eastern and Southern</td>\n",
       "      <td>2019</td>\n",
       "      <td>NaN</td>\n",
       "      <td>NaN</td>\n",
       "      <td>1.009910e+12</td>\n",
       "      <td>1530.059177</td>\n",
       "      <td>3842.578511</td>\n",
       "      <td>-0.544414</td>\n",
       "      <td>660046272.0</td>\n",
       "    </tr>\n",
       "    <tr>\n",
       "      <th>2</th>\n",
       "      <td>Africa Eastern and Southern</td>\n",
       "      <td>2018</td>\n",
       "      <td>1478910.0</td>\n",
       "      <td>NaN</td>\n",
       "      <td>1.012853e+12</td>\n",
       "      <td>1574.978648</td>\n",
       "      <td>3791.875407</td>\n",
       "      <td>-0.185406</td>\n",
       "      <td>643090131.0</td>\n",
       "    </tr>\n",
       "    <tr>\n",
       "      <th>3</th>\n",
       "      <td>Africa Eastern and Southern</td>\n",
       "      <td>2017</td>\n",
       "      <td>1471620.0</td>\n",
       "      <td>NaN</td>\n",
       "      <td>9.853557e+11</td>\n",
       "      <td>1573.063386</td>\n",
       "      <td>3702.390685</td>\n",
       "      <td>-0.144710</td>\n",
       "      <td>626392880.0</td>\n",
       "    </tr>\n",
       "    <tr>\n",
       "      <th>4</th>\n",
       "      <td>Africa Eastern and Southern</td>\n",
       "      <td>2016</td>\n",
       "      <td>1457530.0</td>\n",
       "      <td>NaN</td>\n",
       "      <td>8.733549e+11</td>\n",
       "      <td>1431.778723</td>\n",
       "      <td>3627.294348</td>\n",
       "      <td>-0.674533</td>\n",
       "      <td>609978946.0</td>\n",
       "    </tr>\n",
       "  </tbody>\n",
       "</table>\n",
       "</div>"
      ],
      "text/plain": [
       "                       country  year  EN.ATM.GHGT.KT.CE  EG.ELC.RNEW.ZS  \\\n",
       "0  Africa Eastern and Southern  2020                NaN             NaN   \n",
       "1  Africa Eastern and Southern  2019                NaN             NaN   \n",
       "2  Africa Eastern and Southern  2018          1478910.0             NaN   \n",
       "3  Africa Eastern and Southern  2017          1471620.0             NaN   \n",
       "4  Africa Eastern and Southern  2016          1457530.0             NaN   \n",
       "\n",
       "   NY.GDP.MKTP.CD  NY.GDP.PCAP.CD  NY.GDP.PCAP.PP.CD  NY.GDP.PCAP.KD.ZG  \\\n",
       "0    9.207923e+11     1359.618224        3684.562623          -5.403820   \n",
       "1    1.009910e+12     1530.059177        3842.578511          -0.544414   \n",
       "2    1.012853e+12     1574.978648        3791.875407          -0.185406   \n",
       "3    9.853557e+11     1573.063386        3702.390685          -0.144710   \n",
       "4    8.733549e+11     1431.778723        3627.294348          -0.674533   \n",
       "\n",
       "   SP.POP.TOTL  \n",
       "0  677243299.0  \n",
       "1  660046272.0  \n",
       "2  643090131.0  \n",
       "3  626392880.0  \n",
       "4  609978946.0  "
      ]
     },
     "execution_count": 3,
     "metadata": {},
     "output_type": "execute_result"
    }
   ],
   "source": [
    "data.head()"
   ]
  },
  {
   "cell_type": "code",
   "execution_count": 4,
   "metadata": {},
   "outputs": [
    {
     "data": {
      "text/plain": [
       "(5586, 9)"
      ]
     },
     "execution_count": 4,
     "metadata": {},
     "output_type": "execute_result"
    }
   ],
   "source": [
    "data.shape"
   ]
  },
  {
   "cell_type": "code",
   "execution_count": 5,
   "metadata": {},
   "outputs": [
    {
     "data": {
      "text/plain": [
       "array([2020, 2019, 2018, 2017, 2016, 2015, 2014, 2013, 2012, 2011, 2010,\n",
       "       2009, 2008, 2007, 2006, 2005, 2004, 2003, 2002, 2001, 2000])"
      ]
     },
     "execution_count": 5,
     "metadata": {},
     "output_type": "execute_result"
    }
   ],
   "source": [
    "data.year.unique()"
   ]
  },
  {
   "cell_type": "code",
   "execution_count": 6,
   "metadata": {},
   "outputs": [
    {
     "data": {
      "text/plain": [
       "array(['Africa Eastern and Southern', 'Africa Western and Central',\n",
       "       'Arab World', 'Caribbean small states',\n",
       "       'Central Europe and the Baltics', 'Early-demographic dividend',\n",
       "       'East Asia & Pacific',\n",
       "       'East Asia & Pacific (excluding high income)',\n",
       "       'East Asia & Pacific (IDA & IBRD countries)', 'Euro area',\n",
       "       'Europe & Central Asia',\n",
       "       'Europe & Central Asia (excluding high income)',\n",
       "       'Europe & Central Asia (IDA & IBRD countries)', 'European Union',\n",
       "       'Fragile and conflict affected situations',\n",
       "       'Heavily indebted poor countries (HIPC)', 'High income',\n",
       "       'IBRD only', 'IDA & IBRD total', 'IDA blend', 'IDA only',\n",
       "       'IDA total', 'Late-demographic dividend',\n",
       "       'Latin America & Caribbean',\n",
       "       'Latin America & Caribbean (excluding high income)',\n",
       "       'Latin America & the Caribbean (IDA & IBRD countries)',\n",
       "       'Least developed countries: UN classification',\n",
       "       'Low & middle income', 'Low income', 'Lower middle income',\n",
       "       'Middle East & North Africa',\n",
       "       'Middle East & North Africa (excluding high income)',\n",
       "       'Middle East & North Africa (IDA & IBRD countries)',\n",
       "       'Middle income', 'North America', 'Not classified', 'OECD members',\n",
       "       'Other small states', 'Pacific island small states',\n",
       "       'Post-demographic dividend', 'Pre-demographic dividend',\n",
       "       'Small states', 'South Asia', 'South Asia (IDA & IBRD)',\n",
       "       'Sub-Saharan Africa', 'Sub-Saharan Africa (excluding high income)',\n",
       "       'Sub-Saharan Africa (IDA & IBRD countries)', 'Upper middle income',\n",
       "       'World', 'Afghanistan', 'Albania', 'Algeria', 'American Samoa',\n",
       "       'Andorra', 'Angola', 'Antigua and Barbuda', 'Argentina', 'Armenia',\n",
       "       'Aruba', 'Australia', 'Austria', 'Azerbaijan', 'Bahamas, The',\n",
       "       'Bahrain', 'Bangladesh', 'Barbados', 'Belarus', 'Belgium',\n",
       "       'Belize', 'Benin', 'Bermuda', 'Bhutan', 'Bolivia',\n",
       "       'Bosnia and Herzegovina', 'Botswana', 'Brazil',\n",
       "       'British Virgin Islands', 'Brunei Darussalam', 'Bulgaria',\n",
       "       'Burkina Faso', 'Burundi', 'Cabo Verde', 'Cambodia', 'Cameroon',\n",
       "       'Canada', 'Cayman Islands', 'Central African Republic', 'Chad',\n",
       "       'Channel Islands', 'Chile', 'China', 'Colombia', 'Comoros',\n",
       "       'Congo, Dem. Rep.', 'Congo, Rep.', 'Costa Rica', \"Cote d'Ivoire\",\n",
       "       'Croatia', 'Cuba', 'Curacao', 'Cyprus', 'Czech Republic',\n",
       "       'Denmark', 'Djibouti', 'Dominica', 'Dominican Republic', 'Ecuador',\n",
       "       'Egypt, Arab Rep.', 'El Salvador', 'Equatorial Guinea', 'Eritrea',\n",
       "       'Estonia', 'Eswatini', 'Ethiopia', 'Faroe Islands', 'Fiji',\n",
       "       'Finland', 'France', 'French Polynesia', 'Gabon', 'Gambia, The',\n",
       "       'Georgia', 'Germany', 'Ghana', 'Gibraltar', 'Greece', 'Greenland',\n",
       "       'Grenada', 'Guam', 'Guatemala', 'Guinea', 'Guinea-Bissau',\n",
       "       'Guyana', 'Haiti', 'Honduras', 'Hong Kong SAR, China', 'Hungary',\n",
       "       'Iceland', 'India', 'Indonesia', 'Iran, Islamic Rep.', 'Iraq',\n",
       "       'Ireland', 'Isle of Man', 'Israel', 'Italy', 'Jamaica', 'Japan',\n",
       "       'Jordan', 'Kazakhstan', 'Kenya', 'Kiribati',\n",
       "       \"Korea, Dem. People's Rep.\", 'Korea, Rep.', 'Kosovo', 'Kuwait',\n",
       "       'Kyrgyz Republic', 'Lao PDR', 'Latvia', 'Lebanon', 'Lesotho',\n",
       "       'Liberia', 'Libya', 'Liechtenstein', 'Lithuania', 'Luxembourg',\n",
       "       'Macao SAR, China', 'Madagascar', 'Malawi', 'Malaysia', 'Maldives',\n",
       "       'Mali', 'Malta', 'Marshall Islands', 'Mauritania', 'Mauritius',\n",
       "       'Mexico', 'Micronesia, Fed. Sts.', 'Moldova', 'Monaco', 'Mongolia',\n",
       "       'Montenegro', 'Morocco', 'Mozambique', 'Myanmar', 'Namibia',\n",
       "       'Nauru', 'Nepal', 'Netherlands', 'New Caledonia', 'New Zealand',\n",
       "       'Nicaragua', 'Niger', 'Nigeria', 'North Macedonia',\n",
       "       'Northern Mariana Islands', 'Norway', 'Oman', 'Pakistan', 'Palau',\n",
       "       'Panama', 'Papua New Guinea', 'Paraguay', 'Peru', 'Philippines',\n",
       "       'Poland', 'Portugal', 'Puerto Rico', 'Qatar', 'Romania',\n",
       "       'Russian Federation', 'Rwanda', 'Samoa', 'San Marino',\n",
       "       'Sao Tome and Principe', 'Saudi Arabia', 'Senegal', 'Serbia',\n",
       "       'Seychelles', 'Sierra Leone', 'Singapore',\n",
       "       'Sint Maarten (Dutch part)', 'Slovak Republic', 'Slovenia',\n",
       "       'Solomon Islands', 'Somalia', 'South Africa', 'South Sudan',\n",
       "       'Spain', 'Sri Lanka', 'St. Kitts and Nevis', 'St. Lucia',\n",
       "       'St. Martin (French part)', 'St. Vincent and the Grenadines',\n",
       "       'Sudan', 'Suriname', 'Sweden', 'Switzerland',\n",
       "       'Syrian Arab Republic', 'Tajikistan', 'Tanzania', 'Thailand',\n",
       "       'Timor-Leste', 'Togo', 'Tonga', 'Trinidad and Tobago', 'Tunisia',\n",
       "       'Turkey', 'Turkmenistan', 'Turks and Caicos Islands', 'Tuvalu',\n",
       "       'Uganda', 'Ukraine', 'United Arab Emirates', 'United Kingdom',\n",
       "       'United States', 'Uruguay', 'Uzbekistan', 'Vanuatu',\n",
       "       'Venezuela, RB', 'Vietnam', 'Virgin Islands (U.S.)',\n",
       "       'West Bank and Gaza', 'Yemen, Rep.', 'Zambia', 'Zimbabwe'],\n",
       "      dtype=object)"
      ]
     },
     "execution_count": 6,
     "metadata": {},
     "output_type": "execute_result"
    }
   ],
   "source": [
    "data.country.unique()"
   ]
  },
  {
   "cell_type": "code",
   "execution_count": 7,
   "metadata": {},
   "outputs": [],
   "source": [
    "aggregates = (\n",
    "    'Africa Eastern and Southern', 'Africa Western and Central',\n",
    "       'Arab World', 'Caribbean small states',\n",
    "       'Central Europe and the Baltics', 'Early-demographic dividend',\n",
    "       'East Asia & Pacific',\n",
    "       'East Asia & Pacific (excluding high income)',\n",
    "       'East Asia & Pacific (IDA & IBRD countries)', 'Euro area',\n",
    "       'Europe & Central Asia',\n",
    "       'Europe & Central Asia (excluding high income)',\n",
    "       'Europe & Central Asia (IDA & IBRD countries)', 'European Union',\n",
    "       'Fragile and conflict affected situations',\n",
    "       'Heavily indebted poor countries (HIPC)', 'High income',\n",
    "       'IBRD only', 'IDA & IBRD total', 'IDA blend', 'IDA only',\n",
    "       'IDA total', 'Late-demographic dividend',\n",
    "       'Latin America & Caribbean',\n",
    "       'Latin America & Caribbean (excluding high income)',\n",
    "       'Latin America & the Caribbean (IDA & IBRD countries)',\n",
    "       'Least developed countries: UN classification',\n",
    "       'Low & middle income', 'Low income', 'Lower middle income',\n",
    "       'Middle East & North Africa',\n",
    "       'Middle East & North Africa (excluding high income)',\n",
    "       'Middle East & North Africa (IDA & IBRD countries)',\n",
    "       'Middle income', 'North America', 'Not classified', 'OECD members',\n",
    "       'Other small states', 'Pacific island small states',\n",
    "       'Post-demographic dividend', 'Pre-demographic dividend',\n",
    "       'Small states', 'South Asia', 'South Asia (IDA & IBRD)',\n",
    "       'Sub-Saharan Africa', 'Sub-Saharan Africa (excluding high income)',\n",
    "       'Sub-Saharan Africa (IDA & IBRD countries)', 'Upper middle income',\n",
    "       'World', \n",
    ")"
   ]
  },
  {
   "cell_type": "code",
   "execution_count": 9,
   "metadata": {},
   "outputs": [
    {
     "data": {
      "text/html": [
       "<div>\n",
       "<style scoped>\n",
       "    .dataframe tbody tr th:only-of-type {\n",
       "        vertical-align: middle;\n",
       "    }\n",
       "\n",
       "    .dataframe tbody tr th {\n",
       "        vertical-align: top;\n",
       "    }\n",
       "\n",
       "    .dataframe thead th {\n",
       "        text-align: right;\n",
       "    }\n",
       "</style>\n",
       "<table border=\"1\" class=\"dataframe\">\n",
       "  <thead>\n",
       "    <tr style=\"text-align: right;\">\n",
       "      <th></th>\n",
       "      <th>country</th>\n",
       "      <th>year</th>\n",
       "      <th>EN.ATM.GHGT.KT.CE</th>\n",
       "      <th>EG.ELC.RNEW.ZS</th>\n",
       "      <th>NY.GDP.MKTP.CD</th>\n",
       "      <th>NY.GDP.PCAP.CD</th>\n",
       "      <th>NY.GDP.PCAP.PP.CD</th>\n",
       "      <th>NY.GDP.PCAP.KD.ZG</th>\n",
       "      <th>SP.POP.TOTL</th>\n",
       "    </tr>\n",
       "  </thead>\n",
       "  <tbody>\n",
       "    <tr>\n",
       "      <th>1029</th>\n",
       "      <td>Afghanistan</td>\n",
       "      <td>2020</td>\n",
       "      <td>NaN</td>\n",
       "      <td>NaN</td>\n",
       "      <td>2.011614e+10</td>\n",
       "      <td>516.747871</td>\n",
       "      <td>2078.648615</td>\n",
       "      <td>-4.575032</td>\n",
       "      <td>38928341.0</td>\n",
       "    </tr>\n",
       "    <tr>\n",
       "      <th>1030</th>\n",
       "      <td>Afghanistan</td>\n",
       "      <td>2019</td>\n",
       "      <td>NaN</td>\n",
       "      <td>NaN</td>\n",
       "      <td>1.879945e+10</td>\n",
       "      <td>494.179350</td>\n",
       "      <td>2152.366489</td>\n",
       "      <td>1.535637</td>\n",
       "      <td>38041757.0</td>\n",
       "    </tr>\n",
       "    <tr>\n",
       "      <th>1031</th>\n",
       "      <td>Afghanistan</td>\n",
       "      <td>2018</td>\n",
       "      <td>98920.0</td>\n",
       "      <td>NaN</td>\n",
       "      <td>1.805323e+10</td>\n",
       "      <td>485.668419</td>\n",
       "      <td>2082.635648</td>\n",
       "      <td>-1.194900</td>\n",
       "      <td>37171922.0</td>\n",
       "    </tr>\n",
       "    <tr>\n",
       "      <th>1032</th>\n",
       "      <td>Afghanistan</td>\n",
       "      <td>2017</td>\n",
       "      <td>97300.0</td>\n",
       "      <td>NaN</td>\n",
       "      <td>1.875347e+10</td>\n",
       "      <td>516.679862</td>\n",
       "      <td>2058.400221</td>\n",
       "      <td>0.064764</td>\n",
       "      <td>36296111.0</td>\n",
       "    </tr>\n",
       "    <tr>\n",
       "      <th>1033</th>\n",
       "      <td>Afghanistan</td>\n",
       "      <td>2016</td>\n",
       "      <td>95370.0</td>\n",
       "      <td>NaN</td>\n",
       "      <td>1.811656e+10</td>\n",
       "      <td>512.012778</td>\n",
       "      <td>1981.118069</td>\n",
       "      <td>-0.541416</td>\n",
       "      <td>35383028.0</td>\n",
       "    </tr>\n",
       "  </tbody>\n",
       "</table>\n",
       "</div>"
      ],
      "text/plain": [
       "          country  year  EN.ATM.GHGT.KT.CE  EG.ELC.RNEW.ZS  NY.GDP.MKTP.CD  \\\n",
       "1029  Afghanistan  2020                NaN             NaN    2.011614e+10   \n",
       "1030  Afghanistan  2019                NaN             NaN    1.879945e+10   \n",
       "1031  Afghanistan  2018            98920.0             NaN    1.805323e+10   \n",
       "1032  Afghanistan  2017            97300.0             NaN    1.875347e+10   \n",
       "1033  Afghanistan  2016            95370.0             NaN    1.811656e+10   \n",
       "\n",
       "      NY.GDP.PCAP.CD  NY.GDP.PCAP.PP.CD  NY.GDP.PCAP.KD.ZG  SP.POP.TOTL  \n",
       "1029      516.747871        2078.648615          -4.575032   38928341.0  \n",
       "1030      494.179350        2152.366489           1.535637   38041757.0  \n",
       "1031      485.668419        2082.635648          -1.194900   37171922.0  \n",
       "1032      516.679862        2058.400221           0.064764   36296111.0  \n",
       "1033      512.012778        1981.118069          -0.541416   35383028.0  "
      ]
     },
     "execution_count": 9,
     "metadata": {},
     "output_type": "execute_result"
    }
   ],
   "source": [
    "data = data[~data.country.isin(aggregates)]\n",
    "data.head()"
   ]
  },
  {
   "cell_type": "code",
   "execution_count": 11,
   "metadata": {},
   "outputs": [
    {
     "data": {
      "text/plain": [
       "country                 0\n",
       "year                    0\n",
       "EN.ATM.GHGT.KT.CE     928\n",
       "EG.ELC.RNEW.ZS       1081\n",
       "NY.GDP.MKTP.CD        233\n",
       "NY.GDP.PCAP.CD        233\n",
       "NY.GDP.PCAP.PP.CD     511\n",
       "NY.GDP.PCAP.KD.ZG     300\n",
       "SP.POP.TOTL             9\n",
       "dtype: int64"
      ]
     },
     "execution_count": 11,
     "metadata": {},
     "output_type": "execute_result"
    }
   ],
   "source": [
    "data.isna().sum()"
   ]
  },
  {
   "cell_type": "code",
   "execution_count": 25,
   "metadata": {},
   "outputs": [],
   "source": [
    "# Check for countries with columns completely blank (no data in all years)\n",
    "# valid_data_by_country = data.set_index(['country', 'year']).groupby('country').count()\n",
    "# valid_data_by_country[(valid_data_by_country == 0).sum(axis=1) > 0]"
   ]
  },
  {
   "cell_type": "code",
   "execution_count": null,
   "metadata": {},
   "outputs": [],
   "source": [
    "# Individual histograms\n",
    "# Mutual information\n",
    "# Derived features\n",
    "# Mutual information part 2"
   ]
  }
 ],
 "metadata": {
  "kernelspec": {
   "display_name": "Python 3",
   "language": "python",
   "name": "python3"
  },
  "language_info": {
   "codemirror_mode": {
    "name": "ipython",
    "version": 3
   },
   "file_extension": ".py",
   "mimetype": "text/x-python",
   "name": "python",
   "nbconvert_exporter": "python",
   "pygments_lexer": "ipython3",
   "version": "3.7.6"
  }
 },
 "nbformat": 4,
 "nbformat_minor": 4
}
